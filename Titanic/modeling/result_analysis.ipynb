{
 "cells": [
  {
   "cell_type": "code",
   "execution_count": null,
   "id": "4770daa9-fe9d-49ce-b4f5-05fbad34e765",
   "metadata": {},
   "outputs": [],
   "source": [
    "%load_ext autoreload\n",
    "%autoreload 2"
   ]
  },
  {
   "cell_type": "code",
   "execution_count": null,
   "id": "07715295-f024-4923-aeac-09a2efe2618a",
   "metadata": {},
   "outputs": [],
   "source": [
    "!which python"
   ]
  },
  {
   "cell_type": "markdown",
   "id": "89cc2953-7cbc-4003-9af4-5cb94cb6fa0d",
   "metadata": {},
   "source": [
    "# 設定"
   ]
  },
  {
   "cell_type": "code",
   "execution_count": null,
   "id": "95190ae3-bfe7-4db1-bae1-1862a68e6cc9",
   "metadata": {},
   "outputs": [],
   "source": [
    "import os\n",
    "import sys\n",
    "import datetime\n",
    "import pickle\n",
    "import json\n",
    "\n",
    "import japanize_matplotlib #日本語化matplotlib\n",
    "import numpy as np\n",
    "import pandas as pd\n",
    "import torch\n",
    "import pytorch_lightning as pl\n",
    "\n",
    "from titanic_dataset import MyDataset\n",
    "import main\n",
    "\n",
    "sys.path.append(os.path.join(os.pardir, 'data_processing'))\n",
    "import transform_data as t"
   ]
  },
  {
   "cell_type": "code",
   "execution_count": null,
   "id": "a1b297b8-1b37-425a-a468-979442679834",
   "metadata": {},
   "outputs": [],
   "source": [
    "HOME_PATH = os.pardir\n",
    "\n",
    "# MyDatasetに必要な環境変数\n",
    "INPUT_PATH = os.path.join(HOME_PATH, 'input', 'preprocessed')\n",
    "MODELING_DATA_FILE = 'modeling.pkl'\n",
    "DATA_PROFILE_FILE = 'data_profile.json'\n",
    "TEST_RATIO = 0.2\n",
    "VALIDATION_RATIO = 0.2\n",
    "\n",
    "RESULT_PATH = os.path.join(HOME_PATH, 'output')\n",
    "MODEL_RESULT_PATH = os.path.join(RESULT_PATH, 'model')\n",
    "DATA_RESULT_PATH = os.path.join(RESULT_PATH, 'data')\n",
    "MODEL_FILE = os.path.join(MODEL_RESULT_PATH, 'model.pth')\n",
    "FULL_RESULT_FILE = os.path.join(DATA_RESULT_PATH, 'full_result.csv')\n",
    "\n",
    "# 推論に必要な環境変数\n",
    "SUBMISSION_DATA_FILE = 'submission.pkl'\n",
    "PREDICTION_RESULT_FILE = os.path.join(DATA_RESULT_PATH, 'prediction_result.csv')\n",
    "\n",
    "ORIG_PATH = os.path.join(HOME_PATH, 'input', 'original')                      \n",
    "ORIG_MODELING_FILE = os.path.join(ORIG_PATH, 'modeling.pkl')"
   ]
  },
  {
   "cell_type": "code",
   "execution_count": null,
   "id": "94ed2291-68bb-4793-853a-9b921c04a42e",
   "metadata": {},
   "outputs": [],
   "source": [
    "device = torch.device('cuda:0' if torch.cuda.is_available() else 'cpu')\n",
    "n_gpu = 0 if device == torch.device('cpu') else 1\n",
    "\n",
    "dataset = MyDataset(\n",
    "        data_path=INPUT_PATH,\n",
    "        data_profile_file=DATA_PROFILE_FILE,\n",
    "        modeling_data_file=MODELING_DATA_FILE,\n",
    "        test_ratio=TEST_RATIO,\n",
    "        validation_ratio=VALIDATION_RATIO\n",
    "    )\n",
    "model = main.MyLitModule(dataset=dataset)\n",
    "model.setup()\n",
    "model.load_state_dict(torch.load(MODEL_FILE))\n",
    "trainer = pl.Trainer(max_epochs=MAX_EPOCH, gpus=n_gpu)\n",
    "\n",
    "TARGET_COL = model.target\n",
    "PRED_COL = TARGET_COL + '_pred'"
   ]
  },
  {
   "cell_type": "markdown",
   "id": "00751ebe-4210-4212-bcb5-862b5cb535e8",
   "metadata": {},
   "source": [
    "# 学習結果の確認"
   ]
  },
  {
   "cell_type": "code",
   "execution_count": null,
   "id": "12d54a8c-59ad-46e9-ad80-a4024a2de21f",
   "metadata": {},
   "outputs": [],
   "source": [
    "df_full = pd.read_csv(FULL_RESULT_FILE)\n",
    "df_both, df_orig_modeling, df_orig_submission = t.load_data()\n",
    "df_input_modeling = pd.read_pickle(os.path.join(INPUT_PATH, MODELING_DATA_FILE))"
   ]
  },
  {
   "cell_type": "code",
   "execution_count": null,
   "id": "828ed4ce-6f27-4ae1-9bb6-e4e6f42af624",
   "metadata": {},
   "outputs": [],
   "source": [
    "for df in [df_full, df_orig_modeling, df_input_modeling]:\n",
    "    print(len(df))"
   ]
  },
  {
   "cell_type": "code",
   "execution_count": null,
   "id": "d5763f36-6221-40f2-9293-27d1e45b078b",
   "metadata": {},
   "outputs": [],
   "source": [
    "df_orig_master = pd.merge(df_orig_modeling.drop(TARGET_COL, axis=1), df_full, how='inner', left_index=True, right_index=True)\n",
    "df_orig_master[['Age_x', 'Age_y']]"
   ]
  },
  {
   "cell_type": "markdown",
   "id": "74862cc3-a629-418f-8f8a-ffe21f7418f4",
   "metadata": {},
   "source": [
    "# Shap\n",
    "\n",
    "参考：[SHapley Additive exPlanationsで機械学習モデルを解釈する](https://speakerdeck.com/dropout009/shapley-additive-explanationsdeji-jie-xue-xi-moderuwojie-shi-suru)"
   ]
  },
  {
   "cell_type": "code",
   "execution_count": null,
   "id": "53652585-0029-4ef0-9d93-bb1e1e5c1833",
   "metadata": {},
   "outputs": [],
   "source": [
    "import shap"
   ]
  },
  {
   "cell_type": "code",
   "execution_count": null,
   "id": "bf7d3f55-9bc9-4b40-8e5b-a85f3d471653",
   "metadata": {},
   "outputs": [],
   "source": [
    "df_shap_full = df_full.drop([TARGET_COL, PRED_COL, 'data_usage'], axis=1)\n",
    "arr_shap_full = df_shap_full.values.astype(np.float32)\n",
    "df_shap_full"
   ]
  },
  {
   "cell_type": "code",
   "execution_count": null,
   "id": "9c165ac6-20fe-4724-98ab-8ab369212583",
   "metadata": {},
   "outputs": [],
   "source": [
    "%%time\n",
    "# CPU times: user 3.35 ms, sys: 1.94 ms, total: 5.3 ms\n",
    "# Wall time: 3.93 ms\n",
    "explainer = shap.DeepExplainer(model, torch.from_numpy(arr_shap_full).to('cpu'))"
   ]
  },
  {
   "cell_type": "code",
   "execution_count": null,
   "id": "a8c06c2f-0548-4e4c-ab5c-3c80c521366a",
   "metadata": {},
   "outputs": [],
   "source": [
    "%%time\n",
    "# CPU times: user 26.7 s, sys: 3.93 s, total: 30.6 s\n",
    "# Wall time: 22 s\n",
    "# n=300\n",
    "df_shap_sample = df_shap_full.sample(n=300)\n",
    "arr_shap_sample = df_shap_sample.values.astype(np.float32)\n",
    "features = df_shap_sample.columns.tolist()"
   ]
  },
  {
   "cell_type": "code",
   "execution_count": null,
   "id": "bb877af9-773e-491c-90b3-e0f26aaf2c32",
   "metadata": {},
   "outputs": [],
   "source": [
    "shap_values = explainer.shap_values(torch.from_numpy(arr_shap_sample).to('cpu'))\n",
    "base_value = explainer.expected_value[0]\n",
    "shap.summary_plot(shap_values, df_shap_sample)"
   ]
  },
  {
   "cell_type": "code",
   "execution_count": null,
   "id": "5e5d1bdf-fdac-445c-9136-72ee64309272",
   "metadata": {},
   "outputs": [],
   "source": [
    "df_shap_values = pd.DataFrame(shap_values, columns=features)"
   ]
  },
  {
   "cell_type": "code",
   "execution_count": null,
   "id": "841df350-5770-4c9b-9e78-af20cd4969d1",
   "metadata": {},
   "outputs": [],
   "source": [
    "shap.force_plot(\n",
    "    base_value=base_value,\n",
    "    shap_values=shap_values[0],\n",
    "    features=features,\n",
    "    link='logit',\n",
    "    matplotlib=True\n",
    ")"
   ]
  },
  {
   "cell_type": "code",
   "execution_count": null,
   "id": "28f4e1d9-d303-4f88-ba8d-8c0c385f76a8",
   "metadata": {},
   "outputs": [],
   "source": [
    "target_indicator = 'Age'\n",
    "\n",
    "shap.dependence_plot(\n",
    "    ind=target_indicator,\n",
    "    shap_values=shap_values,\n",
    "    features=df_shap_sample,\n",
    "    interaction_index=None\n",
    ")"
   ]
  },
  {
   "cell_type": "code",
   "execution_count": null,
   "id": "1949597d-52da-4fa9-b073-21a1816fe70a",
   "metadata": {},
   "outputs": [],
   "source": [
    "shap.decision_plot(\n",
    "    base_value=base_value, \n",
    "    shap_values=shap_values[:100,:], \n",
    "    features=features,\n",
    "    link=\"logit\",\n",
    "    show=True\n",
    ")"
   ]
  },
  {
   "cell_type": "code",
   "execution_count": null,
   "id": "994241d1-8665-4cd4-a910-0a0e5691a66f",
   "metadata": {},
   "outputs": [],
   "source": [
    "df_shap = pd.DataFrame({\n",
    "    \"name\": df_shap_values.columns,\n",
    "    \"mean_abs_shap\": np.mean(np.abs(shap_values), axis=0),\n",
    "    \"stdev_abs_shap\": np.std(np.abs(shap_values), axis=0),\n",
    "})\n",
    "df_shap.sort_values(\"mean_abs_shap\", ascending=False)[:20]"
   ]
  },
  {
   "cell_type": "markdown",
   "id": "ea493ab8-e5d4-49a6-ad33-71d151aa69b7",
   "metadata": {},
   "source": [
    "# 個別データ"
   ]
  },
  {
   "cell_type": "code",
   "execution_count": null,
   "id": "031a96e1-5adc-4783-a7ac-7c08305ce9d1",
   "metadata": {},
   "outputs": [],
   "source": [
    "import altair as alt\n",
    "\n",
    "# Optional in JupyterLab: requires an up-to-date vega labextension.\n",
    "alt.renderers.enable('mimetype')\n",
    "\n",
    "# 上限エラー無効化\n",
    "alt.data_transformers.enable('default', max_rows=None)"
   ]
  },
  {
   "cell_type": "markdown",
   "id": "86fc1735-26d7-4fd5-a6b0-bd1082e537e8",
   "metadata": {},
   "source": [
    "# 推論結果の確認"
   ]
  },
  {
   "cell_type": "code",
   "execution_count": null,
   "id": "0de31b04-287e-48b9-8700-8fec4881f214",
   "metadata": {},
   "outputs": [],
   "source": [
    "df_pred = pd.read_csv(PREDICTION_RESULT_FILE)"
   ]
  },
  {
   "cell_type": "code",
   "execution_count": null,
   "id": "54837597-b15b-4afa-9c2d-59b28fd943d6",
   "metadata": {},
   "outputs": [],
   "source": [
    "df_pred"
   ]
  }
 ],
 "metadata": {
  "kernelspec": {
   "display_name": "Python 3",
   "language": "python",
   "name": "python3"
  },
  "language_info": {
   "codemirror_mode": {
    "name": "ipython",
    "version": 3
   },
   "file_extension": ".py",
   "mimetype": "text/x-python",
   "name": "python",
   "nbconvert_exporter": "python",
   "pygments_lexer": "ipython3",
   "version": "3.8.10"
  }
 },
 "nbformat": 4,
 "nbformat_minor": 5
}
